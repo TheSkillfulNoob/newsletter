{
 "cells": [
  {
   "cell_type": "markdown",
   "id": "2510c964",
   "metadata": {},
   "source": [
    "#### Modified version"
   ]
  },
  {
   "cell_type": "code",
   "execution_count": 1,
   "id": "aab24cff",
   "metadata": {},
   "outputs": [
    {
     "name": "stdout",
     "output_type": "stream",
     "text": [
      "Collecting streamlit-quill\n",
      "  Downloading streamlit_quill-0.0.3-1-py3-none-any.whl.metadata (954 bytes)\n",
      "Requirement already satisfied: streamlit>=0.63 in c:\\users\\85290\\appdata\\local\\packages\\pythonsoftwarefoundation.python.3.10_qbz5n2kfra8p0\\localcache\\local-packages\\python310\\site-packages (from streamlit-quill) (1.44.1)\n",
      "Requirement already satisfied: altair<6,>=4.0 in c:\\users\\85290\\appdata\\local\\packages\\pythonsoftwarefoundation.python.3.10_qbz5n2kfra8p0\\localcache\\local-packages\\python310\\site-packages (from streamlit>=0.63->streamlit-quill) (5.5.0)\n",
      "Requirement already satisfied: blinker<2,>=1.0.0 in c:\\users\\85290\\appdata\\local\\packages\\pythonsoftwarefoundation.python.3.10_qbz5n2kfra8p0\\localcache\\local-packages\\python310\\site-packages (from streamlit>=0.63->streamlit-quill) (1.6.2)\n",
      "Requirement already satisfied: cachetools<6,>=4.0 in c:\\users\\85290\\appdata\\local\\packages\\pythonsoftwarefoundation.python.3.10_qbz5n2kfra8p0\\localcache\\local-packages\\python310\\site-packages (from streamlit>=0.63->streamlit-quill) (5.3.3)\n",
      "Requirement already satisfied: click<9,>=7.0 in c:\\users\\85290\\appdata\\local\\packages\\pythonsoftwarefoundation.python.3.10_qbz5n2kfra8p0\\localcache\\local-packages\\python310\\site-packages (from streamlit>=0.63->streamlit-quill) (8.1.7)\n",
      "Requirement already satisfied: numpy<3,>=1.23 in c:\\users\\85290\\appdata\\local\\packages\\pythonsoftwarefoundation.python.3.10_qbz5n2kfra8p0\\localcache\\local-packages\\python310\\site-packages (from streamlit>=0.63->streamlit-quill) (1.24.4)\n",
      "Requirement already satisfied: packaging<25,>=20 in c:\\users\\85290\\appdata\\local\\packages\\pythonsoftwarefoundation.python.3.10_qbz5n2kfra8p0\\localcache\\local-packages\\python310\\site-packages (from streamlit>=0.63->streamlit-quill) (24.1)\n",
      "Requirement already satisfied: pandas<3,>=1.4.0 in c:\\users\\85290\\appdata\\local\\packages\\pythonsoftwarefoundation.python.3.10_qbz5n2kfra8p0\\localcache\\local-packages\\python310\\site-packages (from streamlit>=0.63->streamlit-quill) (2.2.2)\n",
      "Requirement already satisfied: pillow<12,>=7.1.0 in c:\\users\\85290\\appdata\\local\\packages\\pythonsoftwarefoundation.python.3.10_qbz5n2kfra8p0\\localcache\\local-packages\\python310\\site-packages (from streamlit>=0.63->streamlit-quill) (9.2.0)\n",
      "Requirement already satisfied: protobuf<6,>=3.20 in c:\\users\\85290\\appdata\\local\\packages\\pythonsoftwarefoundation.python.3.10_qbz5n2kfra8p0\\localcache\\local-packages\\python310\\site-packages (from streamlit>=0.63->streamlit-quill) (4.25.3)\n",
      "Requirement already satisfied: pyarrow>=7.0 in c:\\users\\85290\\appdata\\local\\packages\\pythonsoftwarefoundation.python.3.10_qbz5n2kfra8p0\\localcache\\local-packages\\python310\\site-packages (from streamlit>=0.63->streamlit-quill) (12.0.0)\n",
      "Requirement already satisfied: requests<3,>=2.27 in c:\\users\\85290\\appdata\\local\\packages\\pythonsoftwarefoundation.python.3.10_qbz5n2kfra8p0\\localcache\\local-packages\\python310\\site-packages (from streamlit>=0.63->streamlit-quill) (2.32.3)\n",
      "Requirement already satisfied: tenacity<10,>=8.1.0 in c:\\users\\85290\\appdata\\local\\packages\\pythonsoftwarefoundation.python.3.10_qbz5n2kfra8p0\\localcache\\local-packages\\python310\\site-packages (from streamlit>=0.63->streamlit-quill) (8.2.3)\n",
      "Requirement already satisfied: toml<2,>=0.10.1 in c:\\users\\85290\\appdata\\local\\packages\\pythonsoftwarefoundation.python.3.10_qbz5n2kfra8p0\\localcache\\local-packages\\python310\\site-packages (from streamlit>=0.63->streamlit-quill) (0.10.2)\n",
      "Requirement already satisfied: typing-extensions<5,>=4.4.0 in c:\\users\\85290\\appdata\\local\\packages\\pythonsoftwarefoundation.python.3.10_qbz5n2kfra8p0\\localcache\\local-packages\\python310\\site-packages (from streamlit>=0.63->streamlit-quill) (4.12.2)\n",
      "Requirement already satisfied: watchdog<7,>=2.1.5 in c:\\users\\85290\\appdata\\local\\packages\\pythonsoftwarefoundation.python.3.10_qbz5n2kfra8p0\\localcache\\local-packages\\python310\\site-packages (from streamlit>=0.63->streamlit-quill) (6.0.0)\n",
      "Requirement already satisfied: gitpython!=3.1.19,<4,>=3.0.7 in c:\\users\\85290\\appdata\\local\\packages\\pythonsoftwarefoundation.python.3.10_qbz5n2kfra8p0\\localcache\\local-packages\\python310\\site-packages (from streamlit>=0.63->streamlit-quill) (3.1.44)\n",
      "Requirement already satisfied: pydeck<1,>=0.8.0b4 in c:\\users\\85290\\appdata\\local\\packages\\pythonsoftwarefoundation.python.3.10_qbz5n2kfra8p0\\localcache\\local-packages\\python310\\site-packages (from streamlit>=0.63->streamlit-quill) (0.9.1)\n",
      "Requirement already satisfied: tornado<7,>=6.0.3 in c:\\users\\85290\\appdata\\local\\packages\\pythonsoftwarefoundation.python.3.10_qbz5n2kfra8p0\\localcache\\local-packages\\python310\\site-packages (from streamlit>=0.63->streamlit-quill) (6.2)\n",
      "Requirement already satisfied: jinja2 in c:\\users\\85290\\appdata\\local\\packages\\pythonsoftwarefoundation.python.3.10_qbz5n2kfra8p0\\localcache\\local-packages\\python310\\site-packages (from altair<6,>=4.0->streamlit>=0.63->streamlit-quill) (3.1.2)\n",
      "Requirement already satisfied: jsonschema>=3.0 in c:\\users\\85290\\appdata\\local\\packages\\pythonsoftwarefoundation.python.3.10_qbz5n2kfra8p0\\localcache\\local-packages\\python310\\site-packages (from altair<6,>=4.0->streamlit>=0.63->streamlit-quill) (4.19.1)\n",
      "Requirement already satisfied: narwhals>=1.14.2 in c:\\users\\85290\\appdata\\local\\packages\\pythonsoftwarefoundation.python.3.10_qbz5n2kfra8p0\\localcache\\local-packages\\python310\\site-packages (from altair<6,>=4.0->streamlit>=0.63->streamlit-quill) (1.35.0)\n",
      "Requirement already satisfied: colorama in c:\\users\\85290\\appdata\\local\\packages\\pythonsoftwarefoundation.python.3.10_qbz5n2kfra8p0\\localcache\\local-packages\\python310\\site-packages (from click<9,>=7.0->streamlit>=0.63->streamlit-quill) (0.4.5)\n",
      "Requirement already satisfied: gitdb<5,>=4.0.1 in c:\\users\\85290\\appdata\\local\\packages\\pythonsoftwarefoundation.python.3.10_qbz5n2kfra8p0\\localcache\\local-packages\\python310\\site-packages (from gitpython!=3.1.19,<4,>=3.0.7->streamlit>=0.63->streamlit-quill) (4.0.12)\n",
      "Requirement already satisfied: python-dateutil>=2.8.2 in c:\\users\\85290\\appdata\\local\\packages\\pythonsoftwarefoundation.python.3.10_qbz5n2kfra8p0\\localcache\\local-packages\\python310\\site-packages (from pandas<3,>=1.4.0->streamlit>=0.63->streamlit-quill) (2.8.2)\n",
      "Requirement already satisfied: pytz>=2020.1 in c:\\users\\85290\\appdata\\local\\packages\\pythonsoftwarefoundation.python.3.10_qbz5n2kfra8p0\\localcache\\local-packages\\python310\\site-packages (from pandas<3,>=1.4.0->streamlit>=0.63->streamlit-quill) (2022.2.1)\n",
      "Requirement already satisfied: tzdata>=2022.7 in c:\\users\\85290\\appdata\\local\\packages\\pythonsoftwarefoundation.python.3.10_qbz5n2kfra8p0\\localcache\\local-packages\\python310\\site-packages (from pandas<3,>=1.4.0->streamlit>=0.63->streamlit-quill) (2023.3)\n",
      "Requirement already satisfied: charset-normalizer<4,>=2 in c:\\users\\85290\\appdata\\local\\packages\\pythonsoftwarefoundation.python.3.10_qbz5n2kfra8p0\\localcache\\local-packages\\python310\\site-packages (from requests<3,>=2.27->streamlit>=0.63->streamlit-quill) (2.1.1)\n",
      "Requirement already satisfied: idna<4,>=2.5 in c:\\users\\85290\\appdata\\local\\packages\\pythonsoftwarefoundation.python.3.10_qbz5n2kfra8p0\\localcache\\local-packages\\python310\\site-packages (from requests<3,>=2.27->streamlit>=0.63->streamlit-quill) (3.3)\n",
      "Requirement already satisfied: urllib3<3,>=1.21.1 in c:\\users\\85290\\appdata\\local\\packages\\pythonsoftwarefoundation.python.3.10_qbz5n2kfra8p0\\localcache\\local-packages\\python310\\site-packages (from requests<3,>=2.27->streamlit>=0.63->streamlit-quill) (1.26.12)\n",
      "Requirement already satisfied: certifi>=2017.4.17 in c:\\users\\85290\\appdata\\local\\packages\\pythonsoftwarefoundation.python.3.10_qbz5n2kfra8p0\\localcache\\local-packages\\python310\\site-packages (from requests<3,>=2.27->streamlit>=0.63->streamlit-quill) (2022.6.15)\n",
      "Requirement already satisfied: smmap<6,>=3.0.1 in c:\\users\\85290\\appdata\\local\\packages\\pythonsoftwarefoundation.python.3.10_qbz5n2kfra8p0\\localcache\\local-packages\\python310\\site-packages (from gitdb<5,>=4.0.1->gitpython!=3.1.19,<4,>=3.0.7->streamlit>=0.63->streamlit-quill) (5.0.2)\n",
      "Requirement already satisfied: MarkupSafe>=2.0 in c:\\users\\85290\\appdata\\local\\packages\\pythonsoftwarefoundation.python.3.10_qbz5n2kfra8p0\\localcache\\local-packages\\python310\\site-packages (from jinja2->altair<6,>=4.0->streamlit>=0.63->streamlit-quill) (2.1.3)\n",
      "Requirement already satisfied: attrs>=22.2.0 in c:\\users\\85290\\appdata\\local\\packages\\pythonsoftwarefoundation.python.3.10_qbz5n2kfra8p0\\localcache\\local-packages\\python310\\site-packages (from jsonschema>=3.0->altair<6,>=4.0->streamlit>=0.63->streamlit-quill) (22.2.0)\n",
      "Requirement already satisfied: jsonschema-specifications>=2023.03.6 in c:\\users\\85290\\appdata\\local\\packages\\pythonsoftwarefoundation.python.3.10_qbz5n2kfra8p0\\localcache\\local-packages\\python310\\site-packages (from jsonschema>=3.0->altair<6,>=4.0->streamlit>=0.63->streamlit-quill) (2023.7.1)\n",
      "Requirement already satisfied: referencing>=0.28.4 in c:\\users\\85290\\appdata\\local\\packages\\pythonsoftwarefoundation.python.3.10_qbz5n2kfra8p0\\localcache\\local-packages\\python310\\site-packages (from jsonschema>=3.0->altair<6,>=4.0->streamlit>=0.63->streamlit-quill) (0.30.2)\n",
      "Requirement already satisfied: rpds-py>=0.7.1 in c:\\users\\85290\\appdata\\local\\packages\\pythonsoftwarefoundation.python.3.10_qbz5n2kfra8p0\\localcache\\local-packages\\python310\\site-packages (from jsonschema>=3.0->altair<6,>=4.0->streamlit>=0.63->streamlit-quill) (0.10.3)\n",
      "Requirement already satisfied: six>=1.5 in c:\\users\\85290\\appdata\\local\\packages\\pythonsoftwarefoundation.python.3.10_qbz5n2kfra8p0\\localcache\\local-packages\\python310\\site-packages (from python-dateutil>=2.8.2->pandas<3,>=1.4.0->streamlit>=0.63->streamlit-quill) (1.16.0)\n",
      "Downloading streamlit_quill-0.0.3-1-py3-none-any.whl (2.9 MB)\n",
      "   ---------------------------------------- 2.9/2.9 MB 19.0 MB/s eta 0:00:00\n",
      "Installing collected packages: streamlit-quill\n",
      "Successfully installed streamlit-quill-0.0.3\n",
      "Note: you may need to restart the kernel to use updated packages.\n"
     ]
    },
    {
     "name": "stderr",
     "output_type": "stream",
     "text": [
      "\n",
      "[notice] A new release of pip is available: 24.3.1 -> 25.1\n",
      "[notice] To update, run: C:\\Users\\85290\\AppData\\Local\\Microsoft\\WindowsApps\\PythonSoftwareFoundation.Python.3.10_qbz5n2kfra8p0\\python.exe -m pip install --upgrade pip\n"
     ]
    }
   ],
   "source": [
    "pip install streamlit-quill"
   ]
  },
  {
   "cell_type": "code",
   "execution_count": 21,
   "id": "6d854a5b",
   "metadata": {},
   "outputs": [
    {
     "name": "stdout",
     "output_type": "stream",
     "text": [
      "✅  Saved 25w17.pdf\n"
     ]
    }
   ],
   "source": [
    "import fitz # pip install PyMuPDF\n",
    "from datetime import date, timedelta\n",
    "import html\n",
    "\n",
    "TEMPLATE = \"Weekly Newsletter Template v3.pdf\"\n",
    "doc      = fitz.open(TEMPLATE)\n",
    "\n",
    "# ──────────────────── derive title & output\n",
    "today    = date.today()\n",
    "week_no  = int((today - timedelta(days=today.weekday())).strftime(\"%V\"))\n",
    "week_no = 17\n",
    "week_tag    = f\"Week {week_no}, {today.year}\"\n",
    "OUTPUT   = f\"{today.year % 100}w{week_no:02d}.pdf\"\n",
    "\n",
    "# ──────────────────── pick up real font name (not alias!)\n",
    "font_tag = None\n",
    "fid, ftype, fsubtype, fname, tag, enc = doc[0].get_fonts()[0]\n",
    "if \"KaiseiTokumin\" in fname:\n",
    "\tfont_tag = tag         # e.g. 'F9'\n",
    "\tfont_name = fname #Default font_name = \"Helvetica\"\n",
    "assert font_tag, \"Kaisei Tokumin not found!\"\n",
    "\n",
    "# ──────────────────── rectangles & payload\n",
    "anchors = {\n",
    "    \"title\":        fitz.Rect(12,  12, 588, 208),\n",
    "    \"events\":       fitz.Rect(15, 252, 365, 428),\n",
    "    \"gratitude\":    fitz.Rect(15, 448, 275, 528), #y0 decreased to accommodate bullet\n",
    "    \"productivity\": fitz.Rect(15, 543, 275, 623), #y0 decreased to accommodate bullet\n",
    "    \"up_next\":      fitz.Rect(15, 665, 340, 805),\n",
    "    \"facts\":        fitz.Rect(290, 465, 585, 625),\n",
    "    \"img_rect\":     fitz.Rect(375, 220, 585, 430),\n",
    "    \"weekly\": \t\tfitz.Rect(359, 660, 464, 795),\n",
    "}\n",
    "\n",
    "payload = {\n",
    "    \"title\": \"Week of Math Education Revisit\",\n",
    "    \"events\": \"<b>Math Education</b><ul><li><span style=\\\"color: rgb(240, 102, 102);\\\">Joined a 800-strong wts group</span> of math experts and students.</li><li>Spent ~45 hours over the week revamping my 2022 M2 reminder deck (MS Paint, 28 slides) to <span style=\\\"color: rgb(240, 102, 102);\\\">2025 ver (LaTeX beamer, 39 slides)</span>. Received 13k views on ig (exp. 10k).</li><li>Coordinated with a taskforce of another EMath student and two teachers on <span style=\\\"color: rgb(240, 102, 102);\\\">distributing/ upscaling resources (ongoing)</span>.</li></ul><h4>Personal</h4><ul><li><span style=\\\"color: rgb(240, 102, 102);\\\">Did Mensa</span> on Saturday. Comfortable entry if not careless.</li><li>Locked in <span style=\\\"color: rgb(240, 102, 102);\\\">HKPFS, other scholarships</span> and collaborations.</li><li>Devised auto <span style=\\\"color: rgb(240, 102, 102);\\\">text-to-html</span> <span style=\\\"color: rgb(240, 102, 102);\\\">converter</span> <a href = \\\"https://tsn-newsletter.streamlit.app/\\\">app</a></li></ul>\",\n",
    "    \"gratitude\": \"<ul><li>Knowing more passionate, ambitious math edu fellows</li><li>Able to <span style=\\\"color: rgb(240, 102, 102);\\\">preserve/ enhance my edge</span> in math edu hobby</li><li>Recognition on <span style=\\\"color: rgb(240, 102, 102);\\\">previous work's impact</span> from student feedbacks/ teachers' praises of my free mock quality</li></ul><p><br></p>\",\n",
    "    \"productivity\": \"<ul><li><strong style=\\\"color: rgb(32, 33, 34);\\\">Delayed sleep phase disorder</strong> (DSPD) is common in <span style=\\\"color: rgb(240, 102, 102);\\\">high-cognition, screen-heavy</span> lifestyles, but our <span style=\\\"color: rgb(240, 102, 102);\\\">circadian rhythms are plastic</span><span style=\\\"color: rgb(32, 33, 34);\\\"> (changeable easily). </span></li><li><span style=\\\"color: rgb(32, 33, 34);\\\">If allowed to </span><span style=\\\"color: rgb(240, 102, 102);\\\">follow own schedules</span><span style=\\\"color: rgb(32, 33, 34);\\\">, e.g. 6am to 3pm sleep, sleep quality and peak work efficiency could be preserved.</span></li></ul>\",\n",
    "    \"up_next\": \"<b>Carried over from last week:</b><ul><li>Automate YT Insights via Py API library</li><li>Trade Strategy Expansion/ Testing on MDP</li><li>Document Lec4 CS234, study Lec 7-8 (Wrap up PPO)</li><li>Timetable matcher</li><li>Fina. data sentiment handler</li><li>Website v4 ecosystem/ wrapper</li><li>Upgrade newsletter with 5-10 insightful graphs per week</li></ul><p><br></p>\",\n",
    "    \"facts\": \"<h4>Interaction btwn sleep deprivation and social func</h4><ul><li>Autism is linked to genetic mutations that affect melatonin regulation and circadian rhythm</li><li>Sleep disruption brings hyperactivity and easier distraction than those who sleep well</li><li>sleepiness predicts less social motivation (Axelsson et al., 2020), less social activity (Holding et al., 2020), and worsened social skills (induced autism?)</li></ul>\",\n",
    "    \"weekly\": \"<p><a href=\\\"https://www.instagram.com/p/DIyh5SjzdAj/\\\" rel=\\\"noopener noreferrer\\\" target=\\\"_blank\\\">#99: Approximation</a> discusses philosophy of navigating life by \\\"just enough approximation w/o micromanaging\\\" and introducing \\\"psychology\\\" component alongside science.</p>\",\n",
    "    \"img_rect\": \"25w17-image\"\n",
    "}\n",
    "\n",
    "title = payload[\"title\"]\n",
    "payload[\"title\"] = f\"{week_tag}: {title}\"\n",
    "def make_html(src, is_title=False):\n",
    "    if src.lstrip().startswith(\"<\"):\n",
    "        return src\n",
    "    if is_title:\n",
    "        return f'<h1 style=\"font-family:\\'{font_name}\\';margin:0\">{html.escape(src)}</h1>'\n",
    "\n",
    "    lines = src.splitlines()\n",
    "    if all(l.startswith((\"•\", \"➜\", \"-\")) for l in lines if l.strip()):\n",
    "        lis = \"\".join(f\"<li>{html.escape(l.lstrip('•➜- '))}</li>\"\n",
    "                      for l in lines if l.strip())\n",
    "        body = f\"<ul>{lis}</ul>\"\n",
    "    else:\n",
    "        body = \"<br>\".join(html.escape(l) for l in lines)\n",
    "\n",
    "    return (f'<div style=\"font-family:\\'{font_name}\\';font-size:11pt;vertical-align:top;'\n",
    "            f'line-height:13pt\">{body}</div>')\n",
    "\n",
    "# ──────────────────── draw on page 0\n",
    "page = doc[0]\n",
    "for key, rect in anchors.items():\n",
    "    #if key == \"img_rect\":\n",
    "    #    continue\n",
    "    html_snip = make_html(payload[key], is_title=(key == \"title\"))\n",
    "    try:\n",
    "        # page.draw_rect(rect, color=(0, 0, 1), width=0.5) #Debug by displaying boundaries\n",
    "        status = page.insert_htmlbox(rect, html_snip, scale_low=0.5, overlay=True)\n",
    "        spare, scale = status\n",
    "        if spare < 0:\n",
    "            print(f\"⚠️ '{key}' did not fully fit. scale={scale:.2f}, extra height needed: {-spare:.2f}pt\")\n",
    "    except OverflowError as e:\n",
    "        print(f\"🚨 OverflowError when inserting '{key}':\", e)\n",
    "\n",
    "# ───────── banner image + hyperlink\n",
    "page.insert_image(anchors[\"img_rect\"], filename=f\"Published/{today.year % 100}w{week_no:02d}-image.png\",\n",
    "                  keep_proportion=True, overlay=True)\n",
    "#page.add_link(anchors[\"img_rect\"],\n",
    "#              uri=\"https://github.com/your‑repo/newsletter\",\n",
    "#              kind=fitz.LINK_URI)\n",
    "\n",
    "doc.save(OUTPUT, deflate=True, garbage=4)\n",
    "print(\"✅  Saved\", OUTPUT)"
   ]
  },
  {
   "cell_type": "markdown",
   "id": "4e41b41f",
   "metadata": {},
   "source": [
    "#### 1a) Auto-mail to subscribers from a CSV\n",
    "\n",
    "Caveat: smtp app password is required on google!"
   ]
  },
  {
   "cell_type": "code",
   "execution_count": 14,
   "id": "4f9c928c",
   "metadata": {},
   "outputs": [],
   "source": [
    "import smtplib\n",
    "import ssl\n",
    "import pandas as pd\n",
    "from email.message import EmailMessage\n",
    "\n",
    "email = \"theskillfulnoob2002@gmail.com\"\n",
    "#pw = \"the-SKILLFUL-2002\"\n",
    "app_pw = \"wyxl fwfv vqpr udde\"\n",
    "def send_newsletter(csv_path, subject, plain_body, html_body, attachment_path=None, debug_email = None):\n",
    "    if debug_email or not csv_path:\n",
    "        bcc_list = [debug_email]\n",
    "    else:\n",
    "        df = pd.read_csv(csv_path)\n",
    "        bcc_list = df['email'].tolist()\n",
    "    msg = EmailMessage()\n",
    "    msg['Subject'] = subject\n",
    "    msg['From'] = email\n",
    "    msg['To'] = email  # visible To field (yourself or generic newsletter identity)\n",
    "    msg['Bcc'] = ', '.join(bcc_list)\n",
    "    msg.set_content(plain_body)\n",
    "    msg.add_alternative(html_body, subtype='html')\n",
    "\n",
    "    if attachment_path:\n",
    "        with open(attachment_path, 'rb') as f:\n",
    "            msg.add_attachment(f.read(), maintype='application', subtype='pdf',\n",
    "                               filename=attachment_path)\n",
    "\n",
    "    context = ssl.create_default_context()\n",
    "    with smtplib.SMTP_SSL('smtp.gmail.com', 465, context=context) as smtp:\n",
    "        smtp.login(email, app_pw)\n",
    "        smtp.send_message(msg)"
   ]
  },
  {
   "cell_type": "markdown",
   "id": "5e715700",
   "metadata": {},
   "source": [
    "#### 1b) HTML Format Editor"
   ]
  },
  {
   "cell_type": "code",
   "execution_count": 20,
   "id": "288931e6",
   "metadata": {},
   "outputs": [],
   "source": [
    "html_content = f\"\"\"\n",
    "<html>\n",
    "  <body style=\"font-family:Arial, sans-serif; margin:0; padding:0;\">\n",
    "    <div style=\"background-color:#E0F7FA; padding:24px;\">\n",
    "      <div style=\"margin-top:20px;\">\n",
    "\t\t<div style=\"background-color:#FFFACD; padding:16px; border-radius:8px;\">\n",
    "\t\t\t<h2 style=\"color:#4CAF50; margin-top:0;\">Your Weekly Digest</h2>\n",
    "\t\t\t<p>Hi there! ☀️</p>\n",
    "\t\t\t<p>Here's another week of your newsletter - attached as a PDF!</p>\n",
    "\t\t\t<br><br>\n",
    "\t\t\t<p>Have a good Labour Day holiday ahead :)</p>\n",
    "\t\t</div>\n",
    "  \n",
    "        <p style=\"font-style:italic; color: #3994cc;\">Stay inspired and informed.\n",
    "\t\t\t<br>Feel free to <b>give me feedback</b> from time to time - love to hear from you too! ❤️\n",
    "\t\t\t<br>- Andrew\n",
    "\t\t</p>\n",
    "      </div>\n",
    "    </div>\n",
    "\n",
    "    <div style=\"background-color:#F0F0F0; padding:16px; font-size:0.9em; color:#555; text-align:center;\">\n",
    "      You received this email because you're subscribed to Andrew's Weekly Newsletter.\n",
    "      <br>\n",
    "      You can <a href=\"mailto:{email}\">Unsubscribe</a> by emailing me.\n",
    "    </div>\n",
    "  </body>\n",
    "</html>\n",
    "\"\"\""
   ]
  },
  {
   "cell_type": "markdown",
   "id": "4791f413",
   "metadata": {},
   "source": [
    "## TOGGLE SWITCH"
   ]
  },
  {
   "cell_type": "code",
   "execution_count": null,
   "id": "74775400",
   "metadata": {},
   "outputs": [],
   "source": [
    "subject = f\"🌱 2025 W{week_no} Newsletter: {title}\"\n",
    "attachment = f\"Published/25w{week_no}.pdf\"\n",
    "csv_path = \"recipients.csv\"\n",
    "plain_text = f\"Your Week {week_no} newsletter is attached. If you cannot view the HTML version, please check the PDF.\"\n",
    "send_newsletter(#csv_path=csv_path, #uncomment this for production\n",
    "                csv_path = None, #comment this for production\n",
    "                subject=subject, \n",
    "                plain_body=plain_text, \n",
    "                html_body=html_content, \n",
    "                attachment_path=attachment,\n",
    "                debug_email = email, #comment this for production\n",
    "                )"
   ]
  },
  {
   "cell_type": "code",
   "execution_count": 23,
   "id": "36c72d33",
   "metadata": {},
   "outputs": [
    {
     "ename": "NameError",
     "evalue": "name 'msg' is not defined",
     "output_type": "error",
     "traceback": [
      "\u001b[1;31m---------------------------------------------------------------------------\u001b[0m",
      "\u001b[1;31mNameError\u001b[0m                                 Traceback (most recent call last)",
      "Input \u001b[1;32mIn [23]\u001b[0m, in \u001b[0;36m<cell line: 1>\u001b[1;34m()\u001b[0m\n\u001b[1;32m----> 1\u001b[0m \u001b[43mmsg\u001b[49m[\u001b[38;5;124m\"\u001b[39m\u001b[38;5;124mbcc\u001b[39m\u001b[38;5;124m\"\u001b[39m]\n",
      "\u001b[1;31mNameError\u001b[0m: name 'msg' is not defined"
     ]
    }
   ],
   "source": [
    "msg[\"bcc\"]"
   ]
  },
  {
   "cell_type": "markdown",
   "id": "6897f1ba",
   "metadata": {},
   "source": [
    "#### 1c) Add and Drop Subscribers"
   ]
  },
  {
   "cell_type": "code",
   "execution_count": 13,
   "id": "2c604aa9",
   "metadata": {},
   "outputs": [
    {
     "name": "stdout",
     "output_type": "stream",
     "text": [
      "Added chanberenice3@gmail.com to the list!\n",
      "Added kiandra0109@gmail.com to the list!\n"
     ]
    }
   ],
   "source": [
    "import pandas as pd\n",
    "from datetime import date\n",
    "csv_path = \"recipients.csv\"\n",
    "def modify_subscription(email, csv_path, action='add'):\n",
    "    df = pd.read_csv(csv_path)\n",
    "    if action == 'add':\n",
    "        if email not in df['email'].values:\n",
    "            new_entry = pd.DataFrame([[email, date.today().isoformat()]], columns=['email', 'subscribed_date'])\n",
    "            df = pd.concat([df, new_entry], ignore_index=True)\n",
    "            print(f\"Added {email} to the list!\")\n",
    "        else:\n",
    "            print(f\"{email} already exists on the list!\")\n",
    "    elif action == 'drop':\n",
    "        df = df[df['email'] != email]\n",
    "    df.to_csv(csv_path, index=False)\n",
    "\n",
    "for add in ['chanberenice3@gmail.com', 'kiandra0109@gmail.com']:\n",
    "    modify_subscription(add, csv_path, 'add')"
   ]
  }
 ],
 "metadata": {
  "kernelspec": {
   "display_name": "Python 3",
   "language": "python",
   "name": "python3"
  },
  "language_info": {
   "codemirror_mode": {
    "name": "ipython",
    "version": 3
   },
   "file_extension": ".py",
   "mimetype": "text/x-python",
   "name": "python",
   "nbconvert_exporter": "python",
   "pygments_lexer": "ipython3",
   "version": "3.10.11"
  }
 },
 "nbformat": 4,
 "nbformat_minor": 5
}
